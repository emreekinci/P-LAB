{
  "cells": [
    {
      "cell_type": "markdown",
      "metadata": {
        "id": "view-in-github",
        "colab_type": "text"
      },
      "source": [
        "<a href=\"https://colab.research.google.com/github/emreekinci/P-LAB/blob/master/Hafta5_1_Data_manipulation_ndarray.ipynb\" target=\"_parent\"><img src=\"https://colab.research.google.com/assets/colab-badge.svg\" alt=\"Open In Colab\"/></a>"
      ]
    },
    {
      "cell_type": "markdown",
      "metadata": {
        "origin_pos": 0,
        "id": "CDrQsdFgG7Ib"
      },
      "source": [
        "# Data Manipulation\n",
        ":label:`sec_ndarray`\n",
        "\n",
        "In order to get anything done, we need some way to store and manipulate data.\n",
        "Generally, there are two important things we need to do with data: (i) acquire\n",
        "them; and (ii) process them once they are inside the computer.  There is no\n",
        "point in acquiring data without some way to store it, so let us get our hands\n",
        "dirty first by playing with synthetic data.  To start, we introduce the\n",
        "$n$-dimensional array, which is also called the *tensor*.\n",
        "\n",
        "If you have worked with NumPy, the most widely-used\n",
        "scientific computing package in Python,\n",
        "then you will find this section familiar.\n",
        "No matter which framework you use,\n",
        "its *tensor class* (`ndarray` in MXNet,\n",
        "`Tensor` in both PyTorch and TensorFlow) is similar to NumPy's `ndarray` with\n",
        "a few killer features.\n",
        "First, GPU is well-supported to accelerate the computation\n",
        "whereas NumPy only supports CPU computation.\n",
        "Second, the tensor class\n",
        "supports automatic differentiation.\n",
        "These properties make the tensor class suitable for deep learning.\n",
        "Throughout the book, when we say tensors,\n",
        "we are referring to instances of the tensor class unless otherwise stated.\n",
        "\n",
        "## Getting Started\n",
        "\n",
        "In this section, we aim to get you up and running,\n",
        "equipping you with the basic math and numerical computing tools\n",
        "that you will build on as you progress through the book.\n",
        "Do not worry if you struggle to grok some of\n",
        "the mathematical concepts or library functions.\n",
        "The following sections will revisit this material\n",
        "in the context of practical examples and it will sink in.\n",
        "On the other hand, if you already have some background\n",
        "and want to go deeper into the mathematical content, just skip this section.\n"
      ]
    },
    {
      "cell_type": "markdown",
      "metadata": {
        "origin_pos": 2,
        "tab": [
          "pytorch"
        ],
        "id": "XXXwOtndG7Id"
      },
      "source": [
        "(**To start, we import `torch`. Note that though it's called PyTorch, we should\n",
        "import `torch` instead of `pytorch`.**)\n"
      ]
    },
    {
      "cell_type": "code",
      "execution_count": null,
      "metadata": {
        "origin_pos": 5,
        "tab": [
          "pytorch"
        ],
        "id": "pAryy4CWG7Ie"
      },
      "outputs": [],
      "source": [
        "import torch"
      ]
    },
    {
      "cell_type": "markdown",
      "metadata": {
        "origin_pos": 7,
        "id": "wVQywCEMG7Ie"
      },
      "source": [
        "[**A tensor represents a (possibly multi-dimensional) array of numerical values.**]\n",
        "With one axis, a tensor is called a *vector*.\n",
        "With two axes, a tensor is called a *matrix*.\n",
        "With $k > 2$ axes, we drop the specialized names\n",
        "and just refer to the object as a $k^\\mathrm{th}$ *order tensor*.\n"
      ]
    },
    {
      "cell_type": "markdown",
      "metadata": {
        "origin_pos": 9,
        "tab": [
          "pytorch"
        ],
        "id": "tQvtWgMbG7Ie"
      },
      "source": [
        "PyTorch provides a variety of functions \n",
        "for creating new tensors \n",
        "prepopulated with values. \n",
        "For example, by invoking `arange(n)`,\n",
        "we can create a vector of evenly spaced values,\n",
        "starting at 0 (included) \n",
        "and ending at `n` (not included).\n",
        "By default, the interval size is $1$.\n",
        "Unless otherwise specified, \n",
        "new tensors are stored in main memory \n",
        "and designated for CPU-based computation.\n"
      ]
    },
    {
      "cell_type": "code",
      "execution_count": null,
      "metadata": {
        "origin_pos": 12,
        "tab": [
          "pytorch"
        ],
        "id": "RMHRTpxTG7If",
        "colab": {
          "base_uri": "https://localhost:8080/"
        },
        "outputId": "ec7fbea4-88fc-458f-f34d-159235789523"
      },
      "outputs": [
        {
          "output_type": "execute_result",
          "data": {
            "text/plain": [
              "tensor([ 0.,  1.,  2.,  3.,  4.,  5.,  6.,  7.,  8.,  9., 10., 11.])"
            ]
          },
          "metadata": {},
          "execution_count": 2
        }
      ],
      "source": [
        "x = torch.arange(12, dtype=torch.float32)\n",
        "x"
      ]
    },
    {
      "cell_type": "markdown",
      "metadata": {
        "origin_pos": 14,
        "id": "BnZto0U_G7If"
      },
      "source": [
        "(**We can access a tensor's *shape***) (~~and the total number of elements~~) (the length along each axis)\n",
        "by inspecting its `shape` property.\n"
      ]
    },
    {
      "cell_type": "code",
      "execution_count": null,
      "metadata": {
        "origin_pos": 15,
        "tab": [
          "pytorch"
        ],
        "id": "QnAxZmIGG7Ig",
        "colab": {
          "base_uri": "https://localhost:8080/"
        },
        "outputId": "5697bf39-458e-4d43-b149-ed322e60722b"
      },
      "outputs": [
        {
          "output_type": "execute_result",
          "data": {
            "text/plain": [
              "torch.Size([12])"
            ]
          },
          "metadata": {},
          "execution_count": 3
        }
      ],
      "source": [
        "x.shape"
      ]
    },
    {
      "cell_type": "markdown",
      "metadata": {
        "origin_pos": 16,
        "id": "0vkIJf1jG7Ig"
      },
      "source": [
        "If we just want to know the total number of elements in a tensor,\n",
        "i.e., the product of all of the shape elements,\n",
        "we can inspect its size.\n",
        "Because we are dealing with a vector here,\n",
        "the single element of its `shape` is identical to its size.\n"
      ]
    },
    {
      "cell_type": "code",
      "execution_count": null,
      "metadata": {
        "origin_pos": 18,
        "tab": [
          "pytorch"
        ],
        "id": "6OsWnRrSG7Ih",
        "colab": {
          "base_uri": "https://localhost:8080/"
        },
        "outputId": "dad6df69-4449-4997-bbef-77fd8de7c42e"
      },
      "outputs": [
        {
          "output_type": "execute_result",
          "data": {
            "text/plain": [
              "12"
            ]
          },
          "metadata": {},
          "execution_count": 4
        }
      ],
      "source": [
        "x.numel()"
      ]
    },
    {
      "cell_type": "markdown",
      "metadata": {
        "origin_pos": 20,
        "id": "yaPkLz24G7Ih"
      },
      "source": [
        "To [**change the shape of a tensor without altering\n",
        "either the number of elements or their values**],\n",
        "we can invoke the `reshape` function.\n",
        "For example, we can transform our tensor, `x`,\n",
        "from a row vector with shape (12,) to a matrix with shape (3, 4).\n",
        "This new tensor contains the exact same values,\n",
        "but views them as a matrix organized as 3 rows and 4 columns.\n",
        "To reiterate, although the shape has changed,\n",
        "the elements have not.\n",
        "Note that the size is unaltered by reshaping.\n"
      ]
    },
    {
      "cell_type": "code",
      "execution_count": null,
      "metadata": {
        "origin_pos": 21,
        "tab": [
          "pytorch"
        ],
        "id": "niK5BimlG7Ih",
        "colab": {
          "base_uri": "https://localhost:8080/"
        },
        "outputId": "9cd73a9f-12a7-400e-d65e-11a5f2a94f98"
      },
      "outputs": [
        {
          "output_type": "execute_result",
          "data": {
            "text/plain": [
              "tensor([[ 0.,  1.,  2.,  3.],\n",
              "        [ 4.,  5.,  6.,  7.],\n",
              "        [ 8.,  9., 10., 11.]])"
            ]
          },
          "metadata": {},
          "execution_count": 5
        }
      ],
      "source": [
        "X = x.reshape(3, 4)\n",
        "X"
      ]
    },
    {
      "cell_type": "markdown",
      "metadata": {
        "origin_pos": 23,
        "id": "sQTdXN_tG7Ih"
      },
      "source": [
        "Reshaping by manually specifying every dimension is unnecessary.\n",
        "If our target shape is a matrix with shape (height, width),\n",
        "then after we know the width, the height is given implicitly.\n",
        "Why should we have to perform the division ourselves?\n",
        "In the example above, to get a matrix with 3 rows,\n",
        "we specified both that it should have 3 rows and 4 columns.\n",
        "Fortunately, tensors can automatically work out one dimension given the rest.\n",
        "We invoke this capability by placing `-1` for the dimension\n",
        "that we would like tensors to automatically infer.\n",
        "In our case, instead of calling `x.reshape(3, 4)`,\n",
        "we could have equivalently called `x.reshape(-1, 4)` or `x.reshape(3, -1)`.\n",
        "\n",
        "Typically, we will want our matrices initialized\n",
        "either with zeros, ones, some other constants,\n",
        "or numbers randomly sampled from a specific distribution.\n",
        "[**We can create a tensor representing a tensor with all elements\n",
        "set to 0**] (~~or 1~~)\n",
        "and a shape of (2, 3, 4) as follows:\n"
      ]
    },
    {
      "cell_type": "code",
      "execution_count": null,
      "metadata": {
        "origin_pos": 25,
        "tab": [
          "pytorch"
        ],
        "id": "UDPdP-ntG7Ih",
        "colab": {
          "base_uri": "https://localhost:8080/"
        },
        "outputId": "f7606db1-dc78-4831-fb14-74992fa49b7f"
      },
      "outputs": [
        {
          "output_type": "execute_result",
          "data": {
            "text/plain": [
              "tensor([[[0., 0., 0., 0.],\n",
              "         [0., 0., 0., 0.],\n",
              "         [0., 0., 0., 0.]],\n",
              "\n",
              "        [[0., 0., 0., 0.],\n",
              "         [0., 0., 0., 0.],\n",
              "         [0., 0., 0., 0.]]])"
            ]
          },
          "metadata": {},
          "execution_count": 6
        }
      ],
      "source": [
        "torch.zeros((2, 3, 4))"
      ]
    },
    {
      "cell_type": "markdown",
      "metadata": {
        "origin_pos": 27,
        "id": "8KLX4fEKG7Ii"
      },
      "source": [
        "Similarly, we can create tensors with each element set to 1 as follows:\n"
      ]
    },
    {
      "cell_type": "code",
      "execution_count": null,
      "metadata": {
        "origin_pos": 29,
        "tab": [
          "pytorch"
        ],
        "id": "IFzu-5VWG7Ii",
        "colab": {
          "base_uri": "https://localhost:8080/"
        },
        "outputId": "c9d96119-0d83-4226-c1e3-d32c5566bb0e"
      },
      "outputs": [
        {
          "output_type": "execute_result",
          "data": {
            "text/plain": [
              "tensor([[[1., 1., 1., 1.],\n",
              "         [1., 1., 1., 1.],\n",
              "         [1., 1., 1., 1.]],\n",
              "\n",
              "        [[1., 1., 1., 1.],\n",
              "         [1., 1., 1., 1.],\n",
              "         [1., 1., 1., 1.]]])"
            ]
          },
          "metadata": {},
          "execution_count": 7
        }
      ],
      "source": [
        "torch.ones((2, 3, 4))"
      ]
    },
    {
      "cell_type": "markdown",
      "metadata": {
        "origin_pos": 31,
        "id": "oxW1MaTwG7Ii"
      },
      "source": [
        "Often, we want to [**randomly sample the values\n",
        "for each element in a tensor**]\n",
        "from some probability distribution.\n",
        "For example, when we construct arrays to serve\n",
        "as parameters in a neural network, we will\n",
        "typically initialize their values randomly.\n",
        "The following snippet creates a tensor with shape (3, 4).\n",
        "Each of its elements is randomly sampled\n",
        "from a standard Gaussian (normal) distribution\n",
        "with a mean of 0 and a standard deviation of 1.\n"
      ]
    },
    {
      "cell_type": "code",
      "execution_count": null,
      "metadata": {
        "origin_pos": 33,
        "tab": [
          "pytorch"
        ],
        "id": "xJULjhhgG7Ii",
        "colab": {
          "base_uri": "https://localhost:8080/"
        },
        "outputId": "1a7c3811-4bf8-4b08-ef17-e630af911799"
      },
      "outputs": [
        {
          "output_type": "execute_result",
          "data": {
            "text/plain": [
              "tensor([[ 0.4024, -0.4115, -0.0563,  0.9234],\n",
              "        [ 0.5645,  0.6611,  1.0784, -0.9050],\n",
              "        [-0.6994, -0.0418,  1.5507,  0.8256]])"
            ]
          },
          "metadata": {},
          "execution_count": 8
        }
      ],
      "source": [
        "torch.randn(3, 4)"
      ]
    },
    {
      "cell_type": "markdown",
      "metadata": {
        "origin_pos": 35,
        "id": "coQoeUDZG7Ii"
      },
      "source": [
        "We can also [**specify the exact values for each element**] in the desired tensor\n",
        "by supplying a Python list (or list of lists) containing the numerical values.\n",
        "Here, the outermost list corresponds to axis 0, and the inner list to axis 1.\n"
      ]
    },
    {
      "cell_type": "code",
      "execution_count": null,
      "metadata": {
        "origin_pos": 37,
        "tab": [
          "pytorch"
        ],
        "id": "8vn4ZCvlG7Ii",
        "colab": {
          "base_uri": "https://localhost:8080/"
        },
        "outputId": "a89ff0d2-deff-4d89-bdd8-e09a44ddd053"
      },
      "outputs": [
        {
          "output_type": "execute_result",
          "data": {
            "text/plain": [
              "tensor([[2, 1, 4, 3],\n",
              "        [1, 2, 3, 4],\n",
              "        [4, 3, 2, 1]])"
            ]
          },
          "metadata": {},
          "execution_count": 9
        }
      ],
      "source": [
        "torch.tensor([[2, 1, 4, 3], [1, 2, 3, 4], [4, 3, 2, 1]])"
      ]
    },
    {
      "cell_type": "markdown",
      "metadata": {
        "origin_pos": 39,
        "id": "JokaLoE0G7Ii"
      },
      "source": [
        "## Operations\n",
        "\n",
        "This book is not about software engineering.\n",
        "Our interests are not limited to simply\n",
        "reading and writing data from/to arrays.\n",
        "We want to perform mathematical operations on those arrays.\n",
        "Some of the simplest and most useful operations\n",
        "are the *elementwise* operations.\n",
        "These apply a standard scalar operation\n",
        "to each element of an array.\n",
        "For functions that take two arrays as inputs,\n",
        "elementwise operations apply some standard binary operator\n",
        "on each pair of corresponding elements from the two arrays.\n",
        "We can create an elementwise function from any function\n",
        "that maps from a scalar to a scalar.\n",
        "\n",
        "In mathematical notation, we would denote such\n",
        "a *unary* scalar operator (taking one input)\n",
        "by the signature $f: \\mathbb{R} \\rightarrow \\mathbb{R}$.\n",
        "This just means that the function is mapping\n",
        "from any real number ($\\mathbb{R}$) onto another.\n",
        "Likewise, we denote a *binary* scalar operator\n",
        "(taking two real inputs, and yielding one output)\n",
        "by the signature $f: \\mathbb{R}, \\mathbb{R} \\rightarrow \\mathbb{R}$.\n",
        "Given any two vectors $\\mathbf{u}$ and $\\mathbf{v}$ *of the same shape*,\n",
        "and a binary operator $f$, we can produce a vector\n",
        "$\\mathbf{c} = F(\\mathbf{u},\\mathbf{v})$\n",
        "by setting $c_i \\gets f(u_i, v_i)$ for all $i$,\n",
        "where $c_i, u_i$, and $v_i$ are the $i^\\mathrm{th}$ elements\n",
        "of vectors $\\mathbf{c}, \\mathbf{u}$, and $\\mathbf{v}$.\n",
        "Here, we produced the vector-valued\n",
        "$F: \\mathbb{R}^d, \\mathbb{R}^d \\rightarrow \\mathbb{R}^d$\n",
        "by *lifting* the scalar function to an elementwise vector operation.\n",
        "\n",
        "The common standard arithmetic operators\n",
        "(`+`, `-`, `*`, `/`, and `**`)\n",
        "have all been *lifted* to elementwise operations\n",
        "for any identically-shaped tensors of arbitrary shape.\n",
        "We can call elementwise operations on any two tensors of the same shape.\n",
        "In the following example, we use commas to formulate a 5-element tuple,\n",
        "where each element is the result of an elementwise operation.\n",
        "\n",
        "### Operations\n",
        "\n",
        "[**The common standard arithmetic operators\n",
        "(`+`, `-`, `*`, `/`, and `**`)\n",
        "have all been *lifted* to elementwise operations.**]\n"
      ]
    },
    {
      "cell_type": "code",
      "execution_count": null,
      "metadata": {
        "origin_pos": 41,
        "tab": [
          "pytorch"
        ],
        "id": "scAxorFgG7Ij",
        "colab": {
          "base_uri": "https://localhost:8080/"
        },
        "outputId": "804a1248-bd39-4eb8-a5bf-3292dc4989c8"
      },
      "outputs": [
        {
          "output_type": "execute_result",
          "data": {
            "text/plain": [
              "(tensor([ 3.,  4.,  6., 10.]),\n",
              " tensor([-1.,  0.,  2.,  6.]),\n",
              " tensor([ 2.,  4.,  8., 16.]),\n",
              " tensor([0.5000, 1.0000, 2.0000, 4.0000]),\n",
              " tensor([ 1.,  4., 16., 64.]))"
            ]
          },
          "metadata": {},
          "execution_count": 10
        }
      ],
      "source": [
        "x = torch.tensor([1.0, 2, 4, 8])\n",
        "y = torch.tensor([2, 2, 2, 2])\n",
        "x + y, x - y, x * y, x / y, x ** y  # The ** operator is exponentiation"
      ]
    },
    {
      "cell_type": "markdown",
      "metadata": {
        "origin_pos": 43,
        "id": "2NfCsseaG7Ij"
      },
      "source": [
        "Many (**more operations can be applied elementwise**),\n",
        "including unary operators like exponentiation.\n"
      ]
    },
    {
      "cell_type": "code",
      "execution_count": null,
      "metadata": {
        "origin_pos": 45,
        "tab": [
          "pytorch"
        ],
        "id": "xN-PdzmIG7Ij",
        "colab": {
          "base_uri": "https://localhost:8080/"
        },
        "outputId": "d04ae17c-f9dc-4a53-f7a1-996b9fe4fb7d"
      },
      "outputs": [
        {
          "output_type": "execute_result",
          "data": {
            "text/plain": [
              "tensor([2.7183e+00, 7.3891e+00, 5.4598e+01, 2.9810e+03])"
            ]
          },
          "metadata": {},
          "execution_count": 11
        }
      ],
      "source": [
        "torch.exp(x)"
      ]
    },
    {
      "cell_type": "markdown",
      "metadata": {
        "origin_pos": 47,
        "id": "YoCTonnUG7Ij"
      },
      "source": [
        "In addition to elementwise computations,\n",
        "we can also perform linear algebra operations,\n",
        "including vector dot products and matrix multiplication.\n",
        "We will explain the crucial bits of linear algebra\n",
        "(with no assumed prior knowledge) in :numref:`sec_linear-algebra`.\n",
        "\n",
        "We can also [***concatenate* multiple tensors together,**]\n",
        "stacking them end-to-end to form a larger tensor.\n",
        "We just need to provide a list of tensors\n",
        "and tell the system along which axis to concatenate.\n",
        "The example below shows what happens when we concatenate\n",
        "two matrices along rows (axis 0, the first element of the shape)\n",
        "vs. columns (axis 1, the second element of the shape).\n",
        "We can see that the first output tensor's axis-0 length ($6$)\n",
        "is the sum of the two input tensors' axis-0 lengths ($3 + 3$);\n",
        "while the second output tensor's axis-1 length ($8$)\n",
        "is the sum of the two input tensors' axis-1 lengths ($4 + 4$).\n"
      ]
    },
    {
      "cell_type": "code",
      "execution_count": null,
      "metadata": {
        "origin_pos": 49,
        "tab": [
          "pytorch"
        ],
        "id": "sOp4f64vG7Ij",
        "colab": {
          "base_uri": "https://localhost:8080/"
        },
        "outputId": "f6f7086b-a5ed-4c18-ec60-a275a9144f4e"
      },
      "outputs": [
        {
          "output_type": "execute_result",
          "data": {
            "text/plain": [
              "(tensor([[ 0.,  1.,  2.,  3.],\n",
              "         [ 4.,  5.,  6.,  7.],\n",
              "         [ 8.,  9., 10., 11.],\n",
              "         [ 2.,  1.,  4.,  3.],\n",
              "         [ 1.,  2.,  3.,  4.],\n",
              "         [ 4.,  3.,  2.,  1.]]),\n",
              " tensor([[ 0.,  1.,  2.,  3.,  2.,  1.,  4.,  3.],\n",
              "         [ 4.,  5.,  6.,  7.,  1.,  2.,  3.,  4.],\n",
              "         [ 8.,  9., 10., 11.,  4.,  3.,  2.,  1.]]))"
            ]
          },
          "metadata": {},
          "execution_count": 12
        }
      ],
      "source": [
        "X = torch.arange(12, dtype=torch.float32).reshape((3,4))\n",
        "Y = torch.tensor([[2.0, 1, 4, 3], [1, 2, 3, 4], [4, 3, 2, 1]])\n",
        "torch.cat((X, Y), dim=0), torch.cat((X, Y), dim=1)"
      ]
    },
    {
      "cell_type": "markdown",
      "metadata": {
        "origin_pos": 51,
        "id": "xPd2dkePG7Ij"
      },
      "source": [
        "Sometimes, we want to [**construct a binary tensor via *logical statements*.**]\n",
        "Take `X == Y` as an example.\n",
        "For each position, if `X` and `Y` are equal at that position,\n",
        "the corresponding entry in the new tensor takes a value of 1,\n",
        "meaning that the logical statement `X == Y` is true at that position;\n",
        "otherwise that position takes 0.\n"
      ]
    },
    {
      "cell_type": "code",
      "execution_count": null,
      "metadata": {
        "origin_pos": 52,
        "tab": [
          "pytorch"
        ],
        "id": "-7W-S0K6G7Ij",
        "colab": {
          "base_uri": "https://localhost:8080/"
        },
        "outputId": "234cec5b-20c1-4df0-b930-597d241093c4"
      },
      "outputs": [
        {
          "output_type": "execute_result",
          "data": {
            "text/plain": [
              "tensor([[False,  True, False,  True],\n",
              "        [False, False, False, False],\n",
              "        [False, False, False, False]])"
            ]
          },
          "metadata": {},
          "execution_count": 13
        }
      ],
      "source": [
        "X == Y"
      ]
    },
    {
      "cell_type": "markdown",
      "metadata": {
        "origin_pos": 53,
        "id": "Id3C3MKJG7Ij"
      },
      "source": [
        "[**Summing all the elements in the tensor**] yields a tensor with only one element.\n"
      ]
    },
    {
      "cell_type": "code",
      "execution_count": null,
      "metadata": {
        "origin_pos": 54,
        "tab": [
          "pytorch"
        ],
        "id": "xR122wYqG7Ij",
        "colab": {
          "base_uri": "https://localhost:8080/"
        },
        "outputId": "81664311-73e9-4a0d-8388-3b90352dd014"
      },
      "outputs": [
        {
          "output_type": "execute_result",
          "data": {
            "text/plain": [
              "tensor(66.)"
            ]
          },
          "metadata": {},
          "execution_count": 14
        }
      ],
      "source": [
        "X.sum()"
      ]
    },
    {
      "cell_type": "markdown",
      "metadata": {
        "origin_pos": 56,
        "id": "gROg03I2G7Ik"
      },
      "source": [
        "## Broadcasting Mechanism\n",
        ":label:`subsec_broadcasting`\n",
        "\n",
        "In the above section, we saw how to perform elementwise operations\n",
        "on two tensors of the same shape. Under certain conditions,\n",
        "even when shapes differ, we can still [**perform elementwise operations\n",
        "by invoking the *broadcasting mechanism*.**]\n",
        "This mechanism works in the following way:\n",
        "First, expand one or both arrays\n",
        "by copying elements appropriately\n",
        "so that after this transformation,\n",
        "the two tensors have the same shape.\n",
        "Second, carry out the elementwise operations\n",
        "on the resulting arrays.\n",
        "\n",
        "In most cases, we broadcast along an axis where an array\n",
        "initially only has length 1, such as in the following example:\n"
      ]
    },
    {
      "cell_type": "code",
      "execution_count": null,
      "metadata": {
        "origin_pos": 58,
        "tab": [
          "pytorch"
        ],
        "id": "VtYHHWPjG7Ik",
        "colab": {
          "base_uri": "https://localhost:8080/"
        },
        "outputId": "2b8c88e2-a7d6-439b-b27f-bbbd726fe3af"
      },
      "outputs": [
        {
          "output_type": "execute_result",
          "data": {
            "text/plain": [
              "(tensor([[0],\n",
              "         [1],\n",
              "         [2]]), tensor([[0, 1]]))"
            ]
          },
          "metadata": {},
          "execution_count": 15
        }
      ],
      "source": [
        "a = torch.arange(3).reshape((3, 1))\n",
        "b = torch.arange(2).reshape((1, 2))\n",
        "a, b"
      ]
    },
    {
      "cell_type": "markdown",
      "metadata": {
        "origin_pos": 60,
        "id": "RbnPvZGiG7Ik"
      },
      "source": [
        "Since `a` and `b` are $3\\times1$ and $1\\times2$ matrices respectively,\n",
        "their shapes do not match up if we want to add them.\n",
        "We *broadcast* the entries of both matrices into a larger $3\\times2$ matrix as follows:\n",
        "for matrix `a` it replicates the columns\n",
        "and for matrix `b` it replicates the rows\n",
        "before adding up both elementwise.\n"
      ]
    },
    {
      "cell_type": "code",
      "execution_count": null,
      "metadata": {
        "origin_pos": 61,
        "tab": [
          "pytorch"
        ],
        "id": "Ezoaj4BZG7Ik",
        "colab": {
          "base_uri": "https://localhost:8080/"
        },
        "outputId": "25153eb1-8bca-41da-e51d-6bc7082dfb0d"
      },
      "outputs": [
        {
          "output_type": "execute_result",
          "data": {
            "text/plain": [
              "tensor([[0, 1],\n",
              "        [1, 2],\n",
              "        [2, 3]])"
            ]
          },
          "metadata": {},
          "execution_count": 16
        }
      ],
      "source": [
        "a + b"
      ]
    },
    {
      "cell_type": "markdown",
      "metadata": {
        "origin_pos": 62,
        "id": "XYY7wP2aG7Ik"
      },
      "source": [
        "## Indexing and Slicing\n",
        "\n",
        "Just as in any other Python array, elements in a tensor can be accessed by index.\n",
        "As in any Python array, the first element has index 0\n",
        "and ranges are specified to include the first but *before* the last element.\n",
        "As in standard Python lists, we can access elements\n",
        "according to their relative position to the end of the list\n",
        "by using negative indices.\n",
        "\n",
        "Thus, [**`[-1]` selects the last element and `[1:3]`\n",
        "selects the second and the third elements**] as follows:\n"
      ]
    },
    {
      "cell_type": "code",
      "execution_count": null,
      "metadata": {
        "origin_pos": 63,
        "tab": [
          "pytorch"
        ],
        "id": "3KnJfOdGG7Ik",
        "colab": {
          "base_uri": "https://localhost:8080/"
        },
        "outputId": "06dcd708-1906-4d84-8202-b2f75e5e65e4"
      },
      "outputs": [
        {
          "output_type": "execute_result",
          "data": {
            "text/plain": [
              "(tensor([ 8.,  9., 10., 11.]), tensor([[ 4.,  5.,  6.,  7.],\n",
              "         [ 8.,  9., 10., 11.]]))"
            ]
          },
          "metadata": {},
          "execution_count": 17
        }
      ],
      "source": [
        "X[-1], X[1:3]"
      ]
    },
    {
      "cell_type": "markdown",
      "metadata": {
        "origin_pos": 64,
        "tab": [
          "pytorch"
        ],
        "id": "5NlAkYXVG7Ik"
      },
      "source": [
        "Beyond reading, (**we can also write elements of a matrix by specifying indices.**)\n"
      ]
    },
    {
      "cell_type": "code",
      "execution_count": null,
      "metadata": {
        "origin_pos": 66,
        "tab": [
          "pytorch"
        ],
        "id": "jspMJQWQG7Ik",
        "colab": {
          "base_uri": "https://localhost:8080/"
        },
        "outputId": "85f14c40-a865-4699-a32a-2d9142a084d7"
      },
      "outputs": [
        {
          "output_type": "execute_result",
          "data": {
            "text/plain": [
              "tensor([[ 0.,  1.,  2.,  3.],\n",
              "        [ 4.,  5.,  9.,  7.],\n",
              "        [ 8.,  9., 10., 11.]])"
            ]
          },
          "metadata": {},
          "execution_count": 18
        }
      ],
      "source": [
        "X[1, 2] = 9\n",
        "X"
      ]
    },
    {
      "cell_type": "markdown",
      "metadata": {
        "origin_pos": 68,
        "id": "4wmIeRikG7Ik"
      },
      "source": [
        "If we want [**to assign multiple elements the same value,\n",
        "we simply index all of them and then assign them the value.**]\n",
        "For instance, `[0:2, :]` accesses the first and second rows,\n",
        "where `:` takes all the elements along axis 1 (column).\n",
        "While we discussed indexing for matrices,\n",
        "this obviously also works for vectors\n",
        "and for tensors of more than 2 dimensions.\n"
      ]
    },
    {
      "cell_type": "code",
      "execution_count": null,
      "metadata": {
        "origin_pos": 69,
        "tab": [
          "pytorch"
        ],
        "id": "A17VmshzG7Ik",
        "colab": {
          "base_uri": "https://localhost:8080/"
        },
        "outputId": "7f54209b-9eb1-4d17-a7c2-c369fc06c394"
      },
      "outputs": [
        {
          "output_type": "execute_result",
          "data": {
            "text/plain": [
              "tensor([[12., 12., 12., 12.],\n",
              "        [12., 12., 12., 12.],\n",
              "        [ 8.,  9., 10., 11.]])"
            ]
          },
          "metadata": {},
          "execution_count": 19
        }
      ],
      "source": [
        "X[0:2, :] = 12\n",
        "X"
      ]
    },
    {
      "cell_type": "markdown",
      "metadata": {
        "origin_pos": 71,
        "id": "PjArmvRAG7Ik"
      },
      "source": [
        "## Saving Memory\n",
        "\n",
        "[**Running operations can cause new memory to be\n",
        "allocated to host results.**]\n",
        "For example, if we write `Y = X + Y`,\n",
        "we will dereference the tensor that `Y` used to point to\n",
        "and instead point `Y` at the newly allocated memory.\n",
        "In the following example, we demonstrate this with Python's `id()` function,\n",
        "which gives us the exact address of the referenced object in memory.\n",
        "After running `Y = Y + X`, we will find that `id(Y)` points to a different location.\n",
        "That is because Python first evaluates `Y + X`,\n",
        "allocating new memory for the result and then makes `Y`\n",
        "point to this new location in memory.\n"
      ]
    },
    {
      "cell_type": "code",
      "execution_count": null,
      "metadata": {
        "origin_pos": 72,
        "tab": [
          "pytorch"
        ],
        "id": "0GIbWH0mG7Ik",
        "colab": {
          "base_uri": "https://localhost:8080/"
        },
        "outputId": "afc53f53-f6bb-4e8b-9e36-aa150f7a11da"
      },
      "outputs": [
        {
          "output_type": "execute_result",
          "data": {
            "text/plain": [
              "False"
            ]
          },
          "metadata": {},
          "execution_count": 20
        }
      ],
      "source": [
        "before = id(Y)\n",
        "Y = Y + X\n",
        "id(Y) == before"
      ]
    },
    {
      "cell_type": "markdown",
      "metadata": {
        "origin_pos": 73,
        "id": "5S9N3sBGG7Il"
      },
      "source": [
        "This might be undesirable for two reasons.\n",
        "First, we do not want to run around\n",
        "allocating memory unnecessarily all the time.\n",
        "In machine learning, we might have\n",
        "hundreds of megabytes of parameters\n",
        "and update all of them multiple times per second.\n",
        "Typically, we will want to perform these updates *in place*.\n",
        "Second, we might point at the same parameters from multiple variables.\n",
        "If we do not update in place, other references will still point to\n",
        "the old memory location, making it possible for parts of our code\n",
        "to inadvertently reference stale parameters.\n"
      ]
    },
    {
      "cell_type": "markdown",
      "metadata": {
        "origin_pos": 74,
        "tab": [
          "pytorch"
        ],
        "id": "SXlM0IreG7Il"
      },
      "source": [
        "Fortunately, (**performing in-place operations**) is easy.\n",
        "We can assign the result of an operation\n",
        "to a previously allocated array with slice notation,\n",
        "e.g., `Y[:] = <expression>`.\n",
        "To illustrate this concept, we first create a new matrix `Z`\n",
        "with the same shape as another `Y`,\n",
        "using `zeros_like` to allocate a block of $0$ entries.\n"
      ]
    },
    {
      "cell_type": "code",
      "execution_count": null,
      "metadata": {
        "origin_pos": 77,
        "tab": [
          "pytorch"
        ],
        "id": "qDSABBhMG7Il",
        "colab": {
          "base_uri": "https://localhost:8080/"
        },
        "outputId": "124fd016-7100-4ed9-9cfa-867421cf407d"
      },
      "outputs": [
        {
          "output_type": "stream",
          "name": "stdout",
          "text": [
            "id(Z): 140496917699376\n",
            "id(Z): 140496917699376\n"
          ]
        }
      ],
      "source": [
        "Z = torch.zeros_like(Y)\n",
        "print('id(Z):', id(Z))\n",
        "Z[:] = X + Y\n",
        "print('id(Z):', id(Z))"
      ]
    },
    {
      "cell_type": "markdown",
      "metadata": {
        "origin_pos": 79,
        "tab": [
          "pytorch"
        ],
        "id": "LmAkEuXsG7Il"
      },
      "source": [
        "[**If the value of `X` is not reused in subsequent computations,\n",
        "we can also use `X[:] = X + Y` or `X += Y`\n",
        "to reduce the memory overhead of the operation.**]\n"
      ]
    },
    {
      "cell_type": "code",
      "execution_count": null,
      "metadata": {
        "origin_pos": 81,
        "tab": [
          "pytorch"
        ],
        "id": "XImfFXijG7Il",
        "colab": {
          "base_uri": "https://localhost:8080/"
        },
        "outputId": "001bfda0-9d3b-4d66-deba-9d9bf198269b"
      },
      "outputs": [
        {
          "output_type": "execute_result",
          "data": {
            "text/plain": [
              "True"
            ]
          },
          "metadata": {},
          "execution_count": 22
        }
      ],
      "source": [
        "before = id(X)\n",
        "X += Y\n",
        "id(X) == before"
      ]
    },
    {
      "cell_type": "markdown",
      "metadata": {
        "origin_pos": 83,
        "id": "TJVhv2VRG7Il"
      },
      "source": [
        "## Conversion to Other Python Objects\n"
      ]
    },
    {
      "cell_type": "markdown",
      "metadata": {
        "origin_pos": 85,
        "tab": [
          "pytorch"
        ],
        "id": "-Cz3ieCxG7Il"
      },
      "source": [
        "[**Converting to a NumPy tensor (`ndarray`)**], or vice versa, is easy.\n",
        "The torch Tensor and numpy array will share their underlying memory\n",
        "locations, and changing one through an in-place operation will also\n",
        "change the other.\n"
      ]
    },
    {
      "cell_type": "code",
      "execution_count": null,
      "metadata": {
        "origin_pos": 87,
        "tab": [
          "pytorch"
        ],
        "id": "G0_zxfm8G7Il",
        "colab": {
          "base_uri": "https://localhost:8080/"
        },
        "outputId": "791a0f9c-b2e7-4dd5-8de1-c1a3c0694e3b"
      },
      "outputs": [
        {
          "output_type": "execute_result",
          "data": {
            "text/plain": [
              "(numpy.ndarray, torch.Tensor)"
            ]
          },
          "metadata": {},
          "execution_count": 23
        }
      ],
      "source": [
        "A = X.numpy()\n",
        "B = torch.from_numpy(A)\n",
        "type(A), type(B)"
      ]
    },
    {
      "cell_type": "markdown",
      "metadata": {
        "origin_pos": 89,
        "id": "kB8nRYzSG7Il"
      },
      "source": [
        "To (**convert a size-1 tensor to a Python scalar**),\n",
        "we can invoke the `item` function or Python's built-in functions.\n"
      ]
    },
    {
      "cell_type": "code",
      "execution_count": null,
      "metadata": {
        "origin_pos": 91,
        "tab": [
          "pytorch"
        ],
        "id": "a7Tb9Rv1G7Il",
        "colab": {
          "base_uri": "https://localhost:8080/"
        },
        "outputId": "4e400eb6-4463-4a65-e2dd-b59d7c8d11f8"
      },
      "outputs": [
        {
          "output_type": "execute_result",
          "data": {
            "text/plain": [
              "(tensor([3.5000]), 3.5, 3.5, 3)"
            ]
          },
          "metadata": {},
          "execution_count": 24
        }
      ],
      "source": [
        "a = torch.tensor([3.5])\n",
        "a, a.item(), float(a), int(a)"
      ]
    },
    {
      "cell_type": "markdown",
      "metadata": {
        "origin_pos": 93,
        "id": "Aipcl-GWG7Il"
      },
      "source": [
        "## Summary\n",
        "\n",
        "* The main interface to store and manipulate data for deep learning is the tensor ($n$-dimensional array). It provides a variety of functionalities including basic mathematics operations, broadcasting, indexing, slicing, memory saving, and conversion to other Python objects.\n",
        "\n",
        "\n",
        "## Exercises\n",
        "\n",
        "1. Run the code in this section. Change the conditional statement `X == Y` in this section to `X < Y` or `X > Y`, and then see what kind of tensor you can get.\n",
        "1. Replace the two tensors that operate by element in the broadcasting mechanism with other shapes, e.g., 3-dimensional tensors. Is the result the same as expected?\n"
      ]
    },
    {
      "cell_type": "markdown",
      "metadata": {
        "origin_pos": 95,
        "tab": [
          "pytorch"
        ],
        "id": "F-2l5v0PG7Il"
      },
      "source": [
        "[Discussions](https://discuss.d2l.ai/t/27)\n"
      ]
    }
  ],
  "metadata": {
    "kernelspec": {
      "display_name": "Python 3",
      "name": "python3"
    },
    "language_info": {
      "name": "python"
    },
    "colab": {
      "name": "Hafta5 - 1 Data manipulation ndarray.ipynb",
      "provenance": [],
      "include_colab_link": true
    }
  },
  "nbformat": 4,
  "nbformat_minor": 0
}